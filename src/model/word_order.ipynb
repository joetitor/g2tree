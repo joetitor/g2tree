{
 "cells": [
  {
   "cell_type": "code",
   "execution_count": 1,
   "metadata": {},
   "outputs": [],
   "source": [
    "import time\n",
    "import os\n",
    "import torch\n",
    "import json\n",
    "import random\n",
    "import numpy as np\n",
    "import argparse\n",
    "import pickle as pkl\n",
    "import networkx as nx\n",
    "\n",
    "from data_utils import SymbolsManager\n",
    "from sys import path\n",
    "from data_utils import convert_to_tree\n",
    "from collections import OrderedDict"
   ]
  },
  {
   "cell_type": "code",
   "execution_count": 2,
   "metadata": {},
   "outputs": [],
   "source": [
    "# some basic configuration\n",
    "\n",
    "data_dir = \"../dataset/\"\n",
    "batch_size = 20\n",
    "min_freq = 2\n",
    "max_vocab_size = 15000\n",
    "seed = 123"
   ]
  },
  {
   "cell_type": "code",
   "execution_count": 3,
   "metadata": {},
   "outputs": [
    {
     "data": {
      "text/plain": [
       "<torch._C.Generator at 0x10bdfa0b0>"
      ]
     },
     "execution_count": 3,
     "metadata": {},
     "output_type": "execute_result"
    }
   ],
   "source": [
    "# set random seed\n",
    "random.seed(seed)\n",
    "np.random.seed(seed)\n",
    "torch.manual_seed(seed)"
   ]
  },
  {
   "cell_type": "markdown",
   "metadata": {},
   "source": [
    "# process word order data"
   ]
  },
  {
   "cell_type": "code",
   "execution_count": 4,
   "metadata": {
    "code_folding": []
   },
   "outputs": [],
   "source": [
    "def create_with_word_order_info(output_file, src, graph_scale):\n",
    "    graph_list = []\n",
    "    batch_size = len(src)\n",
    "    for num in range(batch_size):\n",
    "        info = {}\n",
    "        graph = nx.DiGraph()\n",
    "        graph_node_size = len(src[num])\n",
    "        source_text = src[num]\n",
    "        for idx in range(graph_scale):\n",
    "            graph.add_node(idx)\n",
    "            if(idx >= 1 and idx <= graph_node_size - 1):\n",
    "                graph.add_edge(idx, idx-1)\n",
    "                graph.add_edge(idx-1, idx)\n",
    "        # get the adj_list\n",
    "        adj_list = [sorted(n_dict.keys()) for nodes, n_dict in graph.adjacency()]\n",
    "        \n",
    "        g_ids = {}\n",
    "        g_ids_features = {}\n",
    "        g_adj = {}\n",
    "        for i in range(graph_scale):\n",
    "            g_ids[i] = i\n",
    "            if i < graph_node_size:\n",
    "                g_ids_features[i] = source_text[i]\n",
    "            else:\n",
    "                g_ids_features[i] = '<P>'\n",
    "            g_adj[i] = adj_list[i]\n",
    "        info['g_ids'] = g_ids\n",
    "        info['g_ids_features'] = g_ids_features\n",
    "        info['g_adj'] = g_adj\n",
    "        info['word_list'] = source_text\n",
    "        info['word_len'] = graph_node_size\n",
    "        graph_list.append(info)\n",
    "        \n",
    "    with open(output_file, \"a+\") as f:\n",
    "        for idx in range(len(graph_list)):\n",
    "            f.write(json.dumps(graph_list[idx]) + '\\n')\n",
    "\n",
    "    return graph_list"
   ]
  },
  {
   "cell_type": "code",
   "execution_count": 5,
   "metadata": {
    "code_folding": []
   },
   "outputs": [],
   "source": [
    "def train_data_preprocess():\n",
    "    time_start = time.time()\n",
    "    word_manager = SymbolsManager(True)\n",
    "    word_manager.init_from_file(\"{}/vocab.q.txt\".format(data_dir), min_freq, max_vocab_size)\n",
    "    form_manager = SymbolsManager(True)\n",
    "    form_manager.init_from_file(\"{}/vocab.f.txt\".format(data_dir), 0, max_vocab_size)\n",
    "    print(word_manager.vocab_size)\n",
    "    print(form_manager.vocab_size)\n",
    "    data = []\n",
    "    with open(\"{}/{}.txt\".format(data_dir, \"train\"), \"r\") as f:\n",
    "        for line in f:\n",
    "            l_list = line.split(\"\\t\")\n",
    "            w_list = l_list[0].strip().split(' ')\n",
    "            r_list = form_manager.get_symbol_idx_for_list(l_list[1].strip().split(' '))\n",
    "            cur_tree = convert_to_tree(r_list, 0, len(r_list), form_manager)\n",
    "\n",
    "            data.append((w_list, r_list, cur_tree))\n",
    "\n",
    "    out_graphfile = \"{}/graph.train\".format(data_dir)\n",
    "    if os.path.exists(out_graphfile):\n",
    "        os.remove(out_graphfile)\n",
    "\n",
    "\n",
    "    # generate batch graph here\n",
    "    if len(data) % batch_size != 0:\n",
    "        n = len(data)\n",
    "        for i in range(len(data)%batch_size):\n",
    "            data.insert(n-i-1, data[n-i-1])\n",
    "    index = 0\n",
    "    while index + batch_size <= len(data):\n",
    "        # generate graphs with order information\n",
    "        source_batch = [data[index+idx][0] for idx in range(batch_size)]\n",
    "        max_node_size = max([len(data[index + idx][0]) for idx in range(batch_size)])\n",
    "        graph_batch = create_with_word_order_info(out_graphfile, source_batch, max_node_size)\n",
    "                    \n",
    "        index += batch_size\n",
    "    \n",
    "    out_datafile = \"{}/train.pkl\".format(data_dir)\n",
    "    with open(out_datafile, \"wb\") as out_data:\n",
    "        pkl.dump(data, out_data)\n",
    "    \n",
    "    out_mapfile = \"{}/map.pkl\".format(data_dir)\n",
    "    with open(out_mapfile, \"wb\") as out_map:\n",
    "        pkl.dump([word_manager, form_manager], out_map)\n",
    "\n",
    "    print(word_manager.vocab_size)\n",
    "    print(form_manager.vocab_size)\n",
    "\n",
    "    time_end = time.time()\n",
    "    print \"time used:\" + str(time_end - time_start)"
   ]
  },
  {
   "cell_type": "code",
   "execution_count": 6,
   "metadata": {
    "code_folding": []
   },
   "outputs": [],
   "source": [
    "def test_data_preprocess():\n",
    "    data = []\n",
    "    managers = pkl.load( open(\"{}/map.pkl\".format(data_dir), \"rb\" ) )\n",
    "    word_manager, form_manager = managers\n",
    "    with open(\"{}/{}.txt\".format(data_dir, \"test\"), \"r\") as f:\n",
    "        for line in f:\n",
    "            l_list = line.split(\"\\t\")\n",
    "            w_list = l_list[0].strip().split(' ')\n",
    "            r_list = form_manager.get_symbol_idx_for_list(l_list[1].strip().split(' '))\n",
    "            cur_tree = convert_to_tree(r_list, 0, len(r_list), form_manager)\n",
    "            data.append((w_list, r_list, cur_tree))\n",
    "    out_datafile = \"{}/test.pkl\".format(data_dir)\n",
    "    with open(out_datafile, \"wb\") as out_data:\n",
    "        pkl.dump(data, out_data)\n",
    "\n",
    "    out_graphfile = \"{}/graph.test\".format(data_dir)\n",
    "    if os.path.exists(out_graphfile):\n",
    "        os.remove(out_graphfile)\n",
    "\n",
    "    # generate batch graph here\n",
    "    if len(data) % batch_size != 0:\n",
    "        n = len(data)\n",
    "        for i in range(len(data)%batch_size):\n",
    "            data.insert(n-i-1, data[n-i-1])\n",
    "\n",
    "    index = 0\n",
    "    while index + batch_size <= len(data):\n",
    "        source_batch = [data[index+idx][0] for idx in range(batch_size)]\n",
    "        max_node_size = max([len(data[index + idx][0]) for idx in range(batch_size)])\n",
    "        create_with_word_order_info(out_graphfile, source_batch, max_node_size)\n",
    "        index += batch_size"
   ]
  },
  {
   "cell_type": "code",
   "execution_count": 7,
   "metadata": {},
   "outputs": [
    {
     "name": "stdout",
     "output_type": "stream",
     "text": [
      "loading vocabulary file: ../dataset//vocab.q.txt\n",
      "loading vocabulary file: ../dataset//vocab.f.txt\n",
      "129\n",
      "52\n",
      "129\n",
      "52\n",
      "time used:0.249040842056\n"
     ]
    }
   ],
   "source": [
    "train_data_preprocess()"
   ]
  },
  {
   "cell_type": "code",
   "execution_count": 8,
   "metadata": {},
   "outputs": [],
   "source": [
    "test_data_preprocess()"
   ]
  },
  {
   "cell_type": "code",
   "execution_count": null,
   "metadata": {},
   "outputs": [],
   "source": []
  },
  {
   "cell_type": "code",
   "execution_count": null,
   "metadata": {},
   "outputs": [],
   "source": []
  }
 ],
 "metadata": {
  "kernelspec": {
   "display_name": "Python 2",
   "language": "python",
   "name": "python2"
  },
  "language_info": {
   "codemirror_mode": {
    "name": "ipython",
    "version": 2
   },
   "file_extension": ".py",
   "mimetype": "text/x-python",
   "name": "python",
   "nbconvert_exporter": "python",
   "pygments_lexer": "ipython2",
   "version": "2.7.15"
  },
  "latex_envs": {
   "LaTeX_envs_menu_present": true,
   "autoclose": false,
   "autocomplete": true,
   "bibliofile": "biblio.bib",
   "cite_by": "apalike",
   "current_citInitial": 1,
   "eqLabelWithNumbers": true,
   "eqNumInitial": 1,
   "hotkeys": {
    "equation": "Ctrl-E",
    "itemize": "Ctrl-I"
   },
   "labels_anchors": false,
   "latex_user_defs": false,
   "report_style_numbering": false,
   "user_envs_cfg": false
  }
 },
 "nbformat": 4,
 "nbformat_minor": 2
}
